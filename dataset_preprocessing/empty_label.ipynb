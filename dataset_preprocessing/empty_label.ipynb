{
 "cells": [
  {
   "cell_type": "code",
   "execution_count": 3,
   "metadata": {},
   "outputs": [
    {
     "name": "stderr",
     "output_type": "stream",
     "text": [
      "c:\\Users\\admin\\miniconda3\\envs\\ds_study\\Lib\\site-packages\\PIL\\TiffImagePlugin.py:870: UserWarning: Truncated File Read\n",
      "  warnings.warn(str(msg))\n"
     ]
    }
   ],
   "source": [
    "import os\n",
    "from PIL import Image\n",
    "\n",
    "# 이미지 크기로 비어있는 좌표를 채우는 함수\n",
    "def fill_or_label_images(dataset_path, output_txts_path):\n",
    "    # 모든 폴더를 탐색\n",
    "    for root, dirs, files in os.walk(dataset_path):\n",
    "        for file in files:\n",
    "            # 이미지 파일만 처리\n",
    "            if file.endswith(('.jpg', '.jpeg', '.png')):\n",
    "                image_path = os.path.join(root, file)\n",
    "                image_name, _ = os.path.splitext(file)\n",
    "                \n",
    "                # properties 파일 경로\n",
    "                properties_file = os.path.join(root, 'crop_area.properties')\n",
    "                \n",
    "                # 이미지 크기 확인\n",
    "                try:\n",
    "                    with Image.open(image_path) as img:\n",
    "                        width, height = img.size\n",
    "                except Exception as e:\n",
    "                    print(f\"Error opening image {image_name}: {e}\")\n",
    "                    continue\n",
    "                \n",
    "                # 기본 좌표 (이미지 전체 크기)\n",
    "                default_coords = [0, 0, width, height]\n",
    "                \n",
    "                filled_coords = default_coords\n",
    "                \n",
    "                # properties 파일에서 좌표를 불러옴\n",
    "                if os.path.exists(properties_file):\n",
    "                    with open(properties_file, 'r', encoding='utf-8') as f:\n",
    "                        lines = f.readlines()\n",
    "                        for line in lines:\n",
    "                            if image_name in line:\n",
    "                                coords = line.split('=')[-1].strip().split(',')\n",
    "                                if len(coords) == 4:\n",
    "                                    # 각 좌표가 비어있지 않으면 그 값 사용, 비어있으면 기본 값 사용\n",
    "                                    filled_coords = [\n",
    "                                        coords[0] if coords[0] != '' else default_coords[0],\n",
    "                                        coords[1] if coords[1] != '' else default_coords[1],\n",
    "                                        coords[2] if coords[2] != '' else default_coords[2],\n",
    "                                        coords[3] if coords[3] != '' else default_coords[3]\n",
    "                                    ]\n",
    "                                break\n",
    "                \n",
    "                # filled_coords에서 좌표가 4개가 있는지 확인\n",
    "                if len(filled_coords) == 4:\n",
    "                    try:\n",
    "                        # YOLO 형식으로 변환\n",
    "                        x_center = (int(filled_coords[0]) + int(filled_coords[2])) / (2 * width)\n",
    "                        y_center = (int(filled_coords[1]) + int(filled_coords[3])) / (2 * height)\n",
    "                        bbox_width = (int(filled_coords[2]) - int(filled_coords[0])) / width\n",
    "                        bbox_height = (int(filled_coords[3]) - int(filled_coords[1])) / height\n",
    "                        \n",
    "                        # 출력 경로 설정 및 YOLO 형식으로 저장\n",
    "                        label_file_path = os.path.join(output_txts_path, f\"{image_name}.txt\")\n",
    "                        os.makedirs(output_txts_path, exist_ok=True)\n",
    "                        \n",
    "                        with open(label_file_path, 'w') as label_file:\n",
    "                            label_file.write(f\"0 {x_center} {y_center} {bbox_width} {bbox_height}\\n\")\n",
    "                    \n",
    "                    except Exception as e:\n",
    "                        print(f\"Error processing label for {image_name}: {e}\")\n",
    "                else:\n",
    "                    print(f\"Skipping {image_name}, insufficient coordinates.\")\n",
    "\n",
    "dataset_path = 'dataset/kfood'\n",
    "output_txts_path = 'dataset/empty_labeling'\n",
    "\n",
    "# 라벨링 함수 실행\n",
    "fill_or_label_images(dataset_path, output_txts_path)\n"
   ]
  },
  {
   "cell_type": "code",
   "execution_count": 1,
   "metadata": {},
   "outputs": [
    {
     "name": "stdout",
     "output_type": "stream",
     "text": [
      "라벨 파일 수정이 완료되었습니다.\n"
     ]
    }
   ],
   "source": [
    "import os\n",
    "\n",
    "# 경로 설정\n",
    "empty_labeling_path = 'dataset/empty_labeling'\n",
    "\n",
    "# 라벨 파일 수정 함수\n",
    "def fix_labels(empty_labeling_path):\n",
    "    for label_file in os.listdir(empty_labeling_path):\n",
    "        if label_file.endswith('.txt'):\n",
    "            label_path = os.path.join(empty_labeling_path, label_file)\n",
    "            \n",
    "            # 파일 이름에서 중간 숫자를 추출하여 클래스 ID로 사용\n",
    "            file_name = os.path.splitext(label_file)[0]\n",
    "            middle_number = file_name.split('_')[1]  # 중간의 숫자 추출\n",
    "            class_id = int(middle_number)  # 숫자를 클래스 ID로 변환\n",
    "\n",
    "            # 라벨 파일 읽기\n",
    "            with open(label_path, 'r') as f:\n",
    "                lines = f.readlines()\n",
    "\n",
    "            new_lines = []\n",
    "            for line in lines:\n",
    "                parts = line.strip().split()\n",
    "                coords = [float(p) for p in parts[1:]]  # 좌표 부분 추출\n",
    "\n",
    "                # 음수 좌표는 0으로 수정\n",
    "                coords = [max(0, min(c, 1)) for c in coords]\n",
    "\n",
    "                new_line = f\"{class_id} \" + \" \".join(map(str, coords)) + \"\\n\"\n",
    "                new_lines.append(new_line)\n",
    "\n",
    "            # 수정된 라벨 파일 저장\n",
    "            with open(label_path, 'w') as f:\n",
    "                f.writelines(new_lines)\n",
    "\n",
    "# 라벨 수정 실행\n",
    "fix_labels(empty_labeling_path)\n",
    "\n",
    "print(\"라벨 파일 수정이 완료되었습니다.\")"
   ]
  },
  {
   "cell_type": "code",
   "execution_count": null,
   "metadata": {},
   "outputs": [],
   "source": []
  }
 ],
 "metadata": {
  "kernelspec": {
   "display_name": "ds_study",
   "language": "python",
   "name": "python3"
  },
  "language_info": {
   "codemirror_mode": {
    "name": "ipython",
    "version": 3
   },
   "file_extension": ".py",
   "mimetype": "text/x-python",
   "name": "python",
   "nbconvert_exporter": "python",
   "pygments_lexer": "ipython3",
   "version": "3.12.3"
  }
 },
 "nbformat": 4,
 "nbformat_minor": 2
}
