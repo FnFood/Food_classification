{
 "cells": [
  {
   "cell_type": "markdown",
   "metadata": {},
   "source": [
    "# 1. 음식 데이터 수집 및 레시피 크롤링"
   ]
  },
  {
   "cell_type": "markdown",
   "metadata": {},
   "source": [
    "- 한식 이름 정의"
   ]
  },
  {
   "cell_type": "code",
   "execution_count": null,
   "metadata": {},
   "outputs": [],
   "source": [
    "food_dict = {\n",
    "    '돼지갈비구이': 0, '갈치구이': 1, '고등어구이': 2, '곱창구이': 3, '닭갈비': 4, \n",
    "    '백김치': 5, '떡갈비': 6, '불고기': 7, '삼겹살구이': 8, '장어구이': 9, '조개구이': 10,\n",
    "    '떡국': 11, '무국': 12, '미역국': 13, '북엇국': 14, '시래기국': 15, '콩나물국': 16,\n",
    "    '콩자반': 17, '편육': 18, '갓김치': 19, '깍두기': 20, '무생채': 21, '배추김치': 22,\n",
    "    '오이소박이': 23, '총각김치': 24, '파김치': 25, '가지볶음': 26, '고사리나물': 27,\n",
    "    '미역줄기볶음': 28, '숙주나물': 29, '시금치나물': 30, '애호박볶음': 31, '송편': 32,\n",
    "    '막국수': 33, '물냉면': 34, '비빔냉면': 35, '수제비': 36, '열무국수': 37, '잔치국수': 38,\n",
    "    '쫄면': 39, '칼국수': 40, '콩국수': 41, '꽈리고추무침': 42, '도토리묵': 43, '잡채': 44,\n",
    "    '콩나물무침': 45, '김밥': 46, '김치볶음밥': 47, '누룽지': 48, '비빔밥': 49, '주먹밥': 50,\n",
    "    '감자채볶음': 51, '두부김치': 52, '떡볶이': 53, '멸치볶음': 54, '소세지볶음': 55,\n",
    "    '어묵볶음': 56, '오징어채볶음': 57, '제육볶음': 58, '주꾸미볶음': 59, '보쌈': 60,\n",
    "    '수정과': 61, '식혜': 62, '간장게장': 63, '양념게장': 64, '깻잎장아찌': 65, '감자전': 66,\n",
    "    '계란말이': 67, '김치전': 68, '파전': 69, '호박전': 70, '갈치조림': 71, '감자조림': 72,\n",
    "    '고등어조림': 73, '두부조림': 74, '메추리알장조림': 75, '연근조림': 76, '전복죽': 77,\n",
    "    '호박죽': 78, '김치찌개': 79, '닭계장': 80, '동태찌개': 81, '된장찌개': 82,\n",
    "    '순두부찌개': 83, '갈비찜': 84, '김치찜': 85, '닭볶음탕': 86, '수육': 87, '순대': 88,\n",
    "    '족발': 89, '찜닭': 90, '갈비탕': 91, '감자탕': 92, '매운탕': 93, '삼계탕': 94,\n",
    "    '추어탕': 95, '약과': 96, '약식': 97, '한과': 98, '육회': 99, 'LA 갈비': 100,\n",
    "    '등갈비구이': 101, '숯불닭갈비': 102, '만두국': 103, '김치콩나물국': 104, '신김치무국': 105\n",
    "}"
   ]
  },
  {
   "cell_type": "markdown",
   "metadata": {},
   "source": [
    "- 만개의레시피 크롤링 "
   ]
  },
  {
   "cell_type": "code",
   "execution_count": null,
   "metadata": {},
   "outputs": [],
   "source": [
    "import requests\n",
    "from bs4 import BeautifulSoup\n",
    "import json\n",
    "import pandas as pd\n",
    "\n",
    "def food_info(name):\n",
    "    try:\n",
    "        url = f\"https://www.10000recipe.com/recipe/list.html?q={name}\"\n",
    "        response = requests.get(url)\n",
    "        response.raise_for_status() \n",
    "        \n",
    "        soup = BeautifulSoup(response.text, 'html.parser')\n",
    "        food_list = soup.find_all(attrs={'class':'common_sp_link'})\n",
    "        \n",
    "        if not food_list:\n",
    "            print(f\"{name}에 대한 음식을 찾을 수 없습니다.\")\n",
    "            return None\n",
    "        \n",
    "        food_id = None\n",
    "        for food in food_list:\n",
    "            food_name_element = food.find(attrs={'class': 'common_sp_caption_tit'})\n",
    "            if food_name_element is not None:\n",
    "                food_name = food_name_element.text.strip()\n",
    "                if food_name == name:\n",
    "                    food_id = food['href'].split('/')[-1]\n",
    "                    break\n",
    "        \n",
    "        if food_id is None:\n",
    "            food_id = food_list[0]['href'].split('/')[-1]\n",
    "        \n",
    "        new_url = f'https://www.10000recipe.com/recipe/{food_id}'\n",
    "        new_response = requests.get(new_url)\n",
    "        new_response.raise_for_status()\n",
    "        \n",
    "        soup = BeautifulSoup(new_response.text, 'html.parser')\n",
    "        food_info = soup.find(attrs={'type':'application/ld+json'})\n",
    "        \n",
    "        if not food_info:\n",
    "            print(f\"{name}에 대한 레시피 데이터를 찾을 수 없습니다.\")\n",
    "            return None\n",
    "        \n",
    "        result = json.loads(food_info.text)\n",
    "        ingredients = ', '.join(result.get('recipeIngredient', []))\n",
    "        recipe = [f\"{i+1}. {step.get('text', '')}\" for i, step in enumerate(result.get('recipeInstructions', []))]\n",
    "        \n",
    "        res = {\n",
    "            'name': name,\n",
    "            'ingredients': ingredients,\n",
    "            'recipe': recipe\n",
    "        }\n",
    "        return res\n",
    "    \n",
    "    except requests.exceptions.RequestException as e:\n",
    "        print(f\"HTTP 요청이 실패했습니다: {e}\")\n",
    "    except Exception as e:\n",
    "        print(f\"오류가 발생했습니다: {e}\")"
   ]
  },
  {
   "cell_type": "markdown",
   "metadata": {},
   "source": [
    "- 엑셀파일로 레시피 저장"
   ]
  },
  {
   "cell_type": "code",
   "execution_count": null,
   "metadata": {},
   "outputs": [],
   "source": [
    "import os\n",
    "\n",
    "def save_multiple_foods_to_excel(food_dict, file_name, save_directory):\n",
    "    if not os.path.exists(save_directory):\n",
    "        os.makedirs(save_directory)\n",
    "\n",
    "    file_path = os.path.join(save_directory, file_name)\n",
    "    all_data = []\n",
    "\n",
    "    for food_name in food_dict.keys():\n",
    "        info = food_info(food_name)\n",
    "        if info is not None:\n",
    "            recipe_steps = {f'단계 {i+1}': info['recipe'][i] for i in range(len(info['recipe']))}\n",
    "            data = {\n",
    "                '음식 이름': info['name'],\n",
    "                '재료': info['ingredients']\n",
    "            }\n",
    "            data.update(recipe_steps) \n",
    "            all_data.append(data)\n",
    "        else:\n",
    "            print(f\"{food_name}에 대한 정보를 찾을 수 없습니다.\")\n",
    "    \n",
    "    df = pd.DataFrame(all_data)\n",
    "    df.to_excel(file_path, index=False)\n",
    "    print(f\"{file_path}에 모든 음식 정보가 저장되었습니다.\")"
   ]
  },
  {
   "cell_type": "markdown",
   "metadata": {},
   "source": [
    "- 구글 번역 API를 사용한 레시피 번역"
   ]
  },
  {
   "cell_type": "code",
   "execution_count": null,
   "metadata": {},
   "outputs": [],
   "source": [
    "from googletrans import Translator\n",
    "\n",
    "def translate_to_english(text):\n",
    "    translator = Translator()\n",
    "    try:\n",
    "        translated = translator.translate(text, src='ko', dest='en')\n",
    "        return translated.text\n",
    "    except Exception as e:\n",
    "        print(f\"번역 오류: {e}\")\n",
    "        return text\n",
    "\n",
    "def translate_and_save_to_csv(file_name, translated_file_name):\n",
    "    try:\n",
    "        df = pd.read_excel(file_name)\n",
    "        translated_df = df.applymap(lambda x: translate_to_english(str(x)) if isinstance(x, str) else x)\n",
    "        translated_df.to_csv(translated_file_name, index=False, encoding='utf-8-sig')\n",
    "        print(f\"번역된 파일이 {translated_file_name}에 저장되었습니다.\")\n",
    "    except FileNotFoundError:\n",
    "        print(f\"파일을 찾을 수 없습니다: {file_name}\")\n",
    "    except Exception as e:\n",
    "        print(f\"오류 발생: {e}\")"
   ]
  },
  {
   "cell_type": "markdown",
   "metadata": {},
   "source": [
    "- 번역되지 않은 부분 탐색"
   ]
  },
  {
   "cell_type": "code",
   "execution_count": null,
   "metadata": {},
   "outputs": [],
   "source": [
    "import pandas as pd\n",
    "\n",
    "def compare_and_print_untranslated(korean_file, english_file):\n",
    "    korean_df = pd.read_excel(korean_file)\n",
    "    english_df = pd.read_excel(english_file)\n",
    "    \n",
    "    if korean_df.shape != english_df.shape:\n",
    "        print(\"한글 파일과 영어 파일의 크기가 다릅니다.\")\n",
    "        return\n",
    "\n",
    "    for i in range(korean_df.shape[0]):\n",
    "        for j in range(korean_df.shape[1]):\n",
    "            if pd.isna(english_df.iloc[i, j]) or english_df.iloc[i, j] == '':\n",
    "                print(f\"번역되지 않은 부분: {korean_df.iloc[i, j]}\")"
   ]
  },
  {
   "cell_type": "markdown",
   "metadata": {},
   "source": [
    "- 최종 번역본 검수 및 저장"
   ]
  },
  {
   "cell_type": "code",
   "execution_count": null,
   "metadata": {},
   "outputs": [],
   "source": [
    "def final_translation_output(translated_file, output_file):\n",
    "    df_translated = pd.read_excel(translated_file)\n",
    "    df_output = pd.read_excel(output_file)\n",
    "    \n",
    "    for row in range(len(df_translated)):\n",
    "        for col in df_translated.columns:\n",
    "            df_output.at[row, col] = df_translated.at[row, col]\n",
    "    \n",
    "    final_output_path = 'final_output_with_translation.xlsx'\n",
    "    df_output.to_excel(final_output_path, index=False)\n",
    "    print(\"번역된 데이터가 최종 파일에 저장되었습니다:\", final_output_path)"
   ]
  }
 ],
 "metadata": {
  "kernelspec": {
   "display_name": "Python 3",
   "language": "python",
   "name": "python3"
  },
  "language_info": {
   "codemirror_mode": {
    "name": "ipython",
    "version": 3
   },
   "file_extension": ".py",
   "mimetype": "text/x-python",
   "name": "python",
   "nbconvert_exporter": "python",
   "pygments_lexer": "ipython3",
   "version": "3.12.4"
  }
 },
 "nbformat": 4,
 "nbformat_minor": 2
}
