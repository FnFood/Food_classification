{
 "cells": [
  {
   "cell_type": "code",
   "execution_count": 16,
   "metadata": {},
   "outputs": [
    {
     "name": "stdout",
     "output_type": "stream",
     "text": [
      "파일 이름과 라벨링 값이 성공적으로 변경되었습니다.\n"
     ]
    }
   ],
   "source": [
    "import os\n",
    "\n",
    "# 라벨링 파일이 있는 디렉터리 경로\n",
    "directory = '수제비/train/labels'\n",
    "\n",
    "# 파일 순회\n",
    "for filename in os.listdir(directory):\n",
    "    if filename.endswith('.txt'):\n",
    "        old_file_path = os.path.join(directory, filename)\n",
    "        \n",
    "        # 파일명에서 '_jpg', '_JPG', '_png', '_PNG' 등과 그 뒤의 부분 제거\n",
    "        new_filename = filename.split('_jpg')[0] + '.txt' if '_jpg' in filename else \\\n",
    "               filename.split('_JPG')[0] + '.txt' if '_JPG' in filename else \\\n",
    "               filename.split('_png')[0] + '.txt' if '_png' in filename else \\\n",
    "               filename.split('_PNG')[0] + '.txt' if '_PNG' in filename else \\\n",
    "               filename.split('_jpeg')[0] + '.txt' if '_jpeg' in filename else \\\n",
    "               filename.split('_JPEG')[0] + '.txt' if '_JPEG' in filename else \\\n",
    "               filename.split('_bmp')[0] + '.txt' if '_bmp' in filename else filename\n",
    "\n",
    "        new_file_path = os.path.join(directory, new_filename)\n",
    "\n",
    "        # 중복 파일이 있는 경우 덮어쓰기\n",
    "        if os.path.exists(new_file_path):\n",
    "            os.remove(new_file_path)\n",
    "\n",
    "        # 파일 이름 변경\n",
    "        os.rename(old_file_path, new_file_path)\n",
    "\n",
    "        # 파일 내용 수정 (ID 값 변경)\n",
    "        with open(new_file_path, 'r') as file:\n",
    "            lines = file.readlines()\n",
    "\n",
    "        new_lines = []\n",
    "        for line in lines:\n",
    "            parts = line.strip().split()\n",
    "            if len(parts) > 0:\n",
    "                # 첫 번째 값(클래스 ID)을 파일명에서 숫자로 변경\n",
    "                id_value = new_filename.split('_')[1].lstrip('0')  # '030' -> '30'\n",
    "                parts[0] = id_value\n",
    "                new_lines.append(' '.join(parts) + '\\n')\n",
    "\n",
    "        # 변경된 내용 다시 파일에 저장\n",
    "        with open(new_file_path, 'w') as file:\n",
    "            file.writelines(new_lines)\n",
    "\n",
    "print(\"파일 이름과 라벨링 값이 성공적으로 변경되었습니다.\")"
   ]
  },
  {
   "cell_type": "code",
   "execution_count": 17,
   "metadata": {},
   "outputs": [
    {
     "name": "stdout",
     "output_type": "stream",
     "text": [
      "이미지 파일 이름이 성공적으로 변경되었습니다.\n"
     ]
    }
   ],
   "source": [
    "import os\n",
    "\n",
    "# 이미지 파일이 있는 디렉터리 경로\n",
    "image_directory = '수제비/train/images'\n",
    "\n",
    "# 이미지 파일 순회\n",
    "for filename in os.listdir(image_directory):\n",
    "    # 확장자가 이미지 파일 형식인 경우만 처리 (jpg, png 등)\n",
    "    if filename.endswith(('.jpg', '.jpeg', '.png', '.JPG', '.JPEG', '.PNG')):\n",
    "        old_image_path = os.path.join(image_directory, filename)\n",
    "\n",
    "        # 파일명에서 '_jpg', '_JPG', '_png', '_PNG' 등과 그 뒤의 부분 제거\n",
    "        new_filename = filename.split('_jpg')[0] if '_jpg' in filename else \\\n",
    "               filename.split('_JPG')[0] if '_JPG' in filename else \\\n",
    "               filename.split('_png')[0] if '_png' in filename else \\\n",
    "               filename.split('_PNG')[0] if '_PNG' in filename else \\\n",
    "               filename.split('_jpeg')[0] if '_jpeg' in filename else \\\n",
    "               filename.split('_JPEG')[0] if '_JPEG' in filename else \\\n",
    "               filename.split('_bmp')[0] if '_bmp' in filename else filename\n",
    "\n",
    "        # 확장자를 유지하고, 뒤의 불필요한 부분 제거 후 파일명에 저장\n",
    "        new_file_path = os.path.join(image_directory, new_filename + os.path.splitext(filename)[1])\n",
    "\n",
    "        # 중복 파일이 있는 경우 덮어쓰기\n",
    "        if os.path.exists(new_file_path):\n",
    "            os.remove(new_file_path)\n",
    "\n",
    "        # 파일 이름 변경\n",
    "        os.rename(old_image_path, new_file_path)\n",
    "\n",
    "print(\"이미지 파일 이름이 성공적으로 변경되었습니다.\")"
   ]
  },
  {
   "cell_type": "code",
   "execution_count": null,
   "metadata": {},
   "outputs": [],
   "source": []
  }
 ],
 "metadata": {
  "kernelspec": {
   "display_name": "ds_study",
   "language": "python",
   "name": "python3"
  },
  "language_info": {
   "codemirror_mode": {
    "name": "ipython",
    "version": 3
   },
   "file_extension": ".py",
   "mimetype": "text/x-python",
   "name": "python",
   "nbconvert_exporter": "python",
   "pygments_lexer": "ipython3",
   "version": "3.12.3"
  }
 },
 "nbformat": 4,
 "nbformat_minor": 2
}
