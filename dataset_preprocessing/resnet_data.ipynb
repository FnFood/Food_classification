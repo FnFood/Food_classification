{
 "cells": [
  {
   "cell_type": "code",
   "execution_count": 1,
   "metadata": {},
   "outputs": [
    {
     "name": "stdout",
     "output_type": "stream",
     "text": [
      "properties 파일에 기록되지 않은 이미지 파일들이 복사되었습니다.\n"
     ]
    }
   ],
   "source": [
    "import os\n",
    "import shutil\n",
    "\n",
    "# 상대 경로 설정\n",
    "root_folder = './dataset/kfood'  # dataset 폴더 하위의 kfood 폴더\n",
    "output_folder = './dataset/output'  # 좌표가 없는 이미지를 저장할 폴더\n",
    "\n",
    "# 결과물 저장 폴더가 없다면 생성\n",
    "os.makedirs(output_folder, exist_ok=True)\n",
    "\n",
    "# 이미지 확장자 리스트 (필요한 경우 확장자를 더 추가할 수 있습니다)\n",
    "image_extensions = ['.jpg', '.jpeg', '.png', '.bmp']\n",
    "\n",
    "# 대분류 폴더 순회\n",
    "for category in os.listdir(root_folder):\n",
    "    category_path = os.path.join(root_folder, category)\n",
    "    if os.path.isdir(category_path):  # 대분류 폴더인지 확인\n",
    "        # 중분류 폴더 순회\n",
    "        for sub_category in os.listdir(category_path):\n",
    "            sub_category_path = os.path.join(category_path, sub_category)\n",
    "            if os.path.isdir(sub_category_path):  # 중분류 폴더인지 확인\n",
    "                properties_path = os.path.join(sub_category_path, 'crop_area.properties')\n",
    "\n",
    "                # 해당 중분류 폴더 내의 properties 파일에서 이미지 이름 추출\n",
    "                properties_images = []\n",
    "                if os.path.exists(properties_path):\n",
    "                    with open(properties_path, 'r') as f:\n",
    "                        for line in f:\n",
    "                            properties_images.append(line.split('=')[0].strip())\n",
    "\n",
    "                # 중분류 폴더 내의 모든 이미지 파일을 확인\n",
    "                for img_file in os.listdir(sub_category_path):\n",
    "                    # 파일 확장자 확인\n",
    "                    file_name, file_extension = os.path.splitext(img_file)\n",
    "                    # 확장자 확인 후, properties 파일에 없는 이미지 복사\n",
    "                    if file_extension.lower() in image_extensions and file_name not in properties_images:\n",
    "                        shutil.copy(os.path.join(sub_category_path, img_file),\n",
    "                                    os.path.join(output_folder, img_file))\n",
    "\n",
    "print(\"properties 파일에 기록되지 않은 이미지 파일들이 복사되었습니다.\")"
   ]
  },
  {
   "cell_type": "code",
   "execution_count": 2,
   "metadata": {},
   "outputs": [
    {
     "name": "stdout",
     "output_type": "stream",
     "text": [
      "properties 파일에 기록되지 않은 이미지 파일들이 중분류 폴더 구조로 복사되었습니다.\n"
     ]
    }
   ],
   "source": [
    "import os\n",
    "import shutil\n",
    "\n",
    "# 상대 경로 설정\n",
    "root_folder = './dataset/kfood'  # dataset 폴더 하위의 kfood 폴더\n",
    "output_folder = './dataset/output'  # 좌표가 없는 이미지를 저장할 폴더\n",
    "\n",
    "# 결과물 저장 폴더가 없다면 생성\n",
    "os.makedirs(output_folder, exist_ok=True)\n",
    "\n",
    "# 이미지 확장자 리스트 (필요한 경우 확장자를 더 추가할 수 있습니다)\n",
    "image_extensions = ['.jpg', '.jpeg', '.png', '.bmp']\n",
    "\n",
    "# 대분류 폴더 순회\n",
    "for category in os.listdir(root_folder):\n",
    "    category_path = os.path.join(root_folder, category)\n",
    "    if os.path.isdir(category_path):  # 대분류 폴더인지 확인\n",
    "        # 중분류 폴더 순회\n",
    "        for sub_category in os.listdir(category_path):\n",
    "            sub_category_path = os.path.join(category_path, sub_category)\n",
    "            if os.path.isdir(sub_category_path):  # 중분류 폴더인지 확인\n",
    "                properties_path = os.path.join(sub_category_path, 'crop_area.properties')\n",
    "\n",
    "                # 해당 중분류 폴더 내의 properties 파일에서 이미지 이름 추출\n",
    "                properties_images = []\n",
    "                if os.path.exists(properties_path):\n",
    "                    with open(properties_path, 'r') as f:\n",
    "                        for line in f:\n",
    "                            properties_images.append(line.split('=')[0].strip())\n",
    "\n",
    "                # 중분류 폴더 내의 모든 이미지 파일을 확인\n",
    "                for img_file in os.listdir(sub_category_path):\n",
    "                    # 파일 확장자 확인\n",
    "                    file_name, file_extension = os.path.splitext(img_file)\n",
    "                    # 확장자 확인 후, properties 파일에 없는 이미지 복사\n",
    "                    if file_extension.lower() in image_extensions and file_name not in properties_images:\n",
    "                        # 중분류 폴더 이름을 살려서 output 폴더 안에 저장할 경로 생성\n",
    "                        output_sub_category_path = os.path.join(output_folder, category, sub_category)\n",
    "                        os.makedirs(output_sub_category_path, exist_ok=True)  # 중분류 폴더가 없으면 생성\n",
    "                        \n",
    "                        # 이미지 파일을 중분류 폴더 구조로 복사\n",
    "                        shutil.copy(os.path.join(sub_category_path, img_file),\n",
    "                                    os.path.join(output_sub_category_path, img_file))\n",
    "\n",
    "print(\"properties 파일에 기록되지 않은 이미지 파일들이 중분류 폴더 구조로 복사되었습니다.\")"
   ]
  },
  {
   "cell_type": "code",
   "execution_count": null,
   "metadata": {},
   "outputs": [],
   "source": []
  }
 ],
 "metadata": {
  "kernelspec": {
   "display_name": "ds_study",
   "language": "python",
   "name": "python3"
  },
  "language_info": {
   "codemirror_mode": {
    "name": "ipython",
    "version": 3
   },
   "file_extension": ".py",
   "mimetype": "text/x-python",
   "name": "python",
   "nbconvert_exporter": "python",
   "pygments_lexer": "ipython3",
   "version": "3.12.3"
  }
 },
 "nbformat": 4,
 "nbformat_minor": 2
}
